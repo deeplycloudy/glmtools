{
 "cells": [
  {
   "cell_type": "code",
   "execution_count": 1,
   "id": "aababa87-c533-402c-9b5d-824a95aa64e3",
   "metadata": {
    "tags": []
   },
   "outputs": [],
   "source": [
    "from datetime import datetime\n",
    "\n",
    "import numpy as np\n",
    "from scipy.optimize import least_squares\n",
    "\n",
    "from glmtools.io.glm import GLMDataset\n",
    "from glmtools.io.lightning_ellipse import ltg_ellps_radii, ltg_ellpse_rev, ltg_ellps_lon_lat_to_fixed_grid\n",
    "from lmatools.grid.fixed import get_GOESR_coordsys"
   ]
  },
  {
   "cell_type": "markdown",
   "id": "a0d1973e-00d1-4b09-84e0-56d7419b5bc4",
   "metadata": {},
   "source": [
    "# Stereo renavigation GOES-R fixed grid look vectors.\n",
    "\n",
    "This notebook demonstrates how to calclulate the stereo position of two (or more) fixed grid look vectors observed by geostationary satellites, and explains how to do it.\n",
    "\n",
    "A common application of this approach is to navigate GOES-R GLM groups that occur near each other in space and at the same time. The event-based nature of lightning makes it easier to find matches.\n",
    "\n",
    "We take a forward modeling, cost function minimization approach, instead of trying to calculate the nearest approach of two vectors defined by the fixed grid look vectors. This opens the methodology to three or more observations of the same event.\n",
    "\n",
    "The practical implmentation uses the operationally tested `glmtools` functionality for coordinate system transformations, and adds new navigation code from Bezooijen et al. (2016, SPIE, [1]), hereafter B16.\n",
    "\n",
    "— ECB, 27 November 2024\n",
    "\n",
    "[1]     Bezooijen, R. W. H., H. Demroff, G. Burton, D. Chu, and S. Yang, 2016: \n",
    "        Image navigation and registration for the geostationary lightning \n",
    "        mapper (GLM). Proc. SPIE 10004, 100041N, doi: 10.1117/12.2242141.\n"
   ]
  },
  {
   "cell_type": "markdown",
   "id": "bf90255e-26c1-479e-a14e-32a26a41cd2d",
   "metadata": {},
   "source": [
    "## Concerning the satellite position\n",
    "\n",
    "\n",
    "In B16, eq. 56 the final navigated fixed grid angles are relative to the *nominal* position of the satellite. But what is the \"nominal\" position?\n",
    "\n",
    "From the PUG, L1bvol3, bottom of p. 12 (just below Table 5.1.2.3-2), -75.0 (lon_field_of_view in the L2 LCFA product) is the center of the fixed grid coordinate system for ABI, while the actual orbital slot is -75.2. \n",
    "\n",
    "In the PUG L2+vol5, table 5.26.1-1 on p. 589, in the section on GLM, nominal_satellite_subpoint_lon is -75.2, matching the variable in the data file with that name. \n",
    "\n",
    "In Bezooijen, \"the nominal location of the SC is defined as the origin of the fixed grid coordinate frame,\" which conflicts with the two statements above and the names of the variables. One might think that B16 were also responsible for the table in the L2+ PUG, and their use of \"nominal\" in their equation 56 corresponds to \"nominal\" in the PUG, i.e. they define the fixed grid angles relative to -75.2. However, this does not seem to be the case.\n",
    "\n",
    "Code we have previously developed has been tested for a match to LMA data, and it uses `lon_field_of_view` in a relatively low-level conversion of event positions. See `plot_glm_events` in https://github.com/deeplycloudy/xlma-python/pull/41/files. Similarly, the operational glmtools code uses `lon_field_of_view` to calculate its fixed grid positions, and this matches well to ABI. So, we interpret the fixed grid angle as being defined relative to `lon_field_of_view`.\n",
    "\n",
    "However, it is helpful to also think about the specific steps followed by B16, who first navigate from the _true_ satellite position to a position on the lightning ellipsoid, and then use the position on the lightning ellipsoid to find a _nominal_ fixed grid angle.\n",
    "\n",
    "B16 first determines the line of sight look angle from the true, physical GLM local, **v**\\_it, a unit vector in the ECEF basis (eq. 30). This vector is then scaled with eq. 33 to the correct length to intersect the lightning ellipsoid, as calculated explicitly in section 2.6, eq. 41, which then gives the lightning position vector **P** in eq. 44 relative to ECEF. So the vector  **v**\\_it is what we want, since it is determined independently of the lightning ellipsoid, and is in ECEF without reference to any earth or lightning ellipsoid.\n",
    "\n",
    "We might take the fixed grid vectors already navigated by glmtools to be aligned with this true look angle, but is that true? Note that in B16 they calculate the look angles from the actual, physical satellite position (i.e., -75.2), find the intersection with the lightning ellipsoid, and get the ECEF vector to the lightning position **P**. Then they assume the satellite is at -75.0 (as we find to be empirically true given our other successful naviation implementations described above), and calculate that fixed grid look angle.\n",
    "\n",
    "So to get the true look angle as it occurred in physical reality, we need to start with the calculated position on the lighting ellipsoid, and find the fixed grid angle back to the physical satellite position. The LCFA file gives the lightning ellipsoid position, so we can find the fixed grid angle to the physical satellite position with the same glmtools code by setting the nadir_lon to the satellite subpoint (-75.2).\n",
    "\n",
    "\n",
    "G18 lon_field_of_view and nominal_satellite_subpoint are the same. A test using the G16 lon_field_of_view shows residuals that are twice as large, and locates lightning in the stratosphere.\n"
   ]
  },
  {
   "cell_type": "markdown",
   "id": "e7c74796-cdcc-4881-95ac-e122d59bd430",
   "metadata": {},
   "source": [
    "## Stereo calculation methodology\n",
    "\n",
    "Start with a first guess (lon, lat) position as the average of both satellite horizontal locations, and guess 12 km altitude (result is not sensitive to this guess). Predict the look angle using Bezooijen's (55-59), and use scipy's Levenburg-Marquardt nonlinear least squares optimization routine to adjust (lon, lat, alt) to minimize the difference to the two look angles. This produces a final lon, lat, alt of the source.\n"
   ]
  },
  {
   "cell_type": "code",
   "execution_count": 2,
   "id": "8d5643b2-6704-4246-a960-c6da169dc3c6",
   "metadata": {
    "tags": []
   },
   "outputs": [],
   "source": [
    "# === Functions for converting data in the GLM LCFA L2 files to vectors ===\n",
    "\n",
    "def goesr_sat_params(ds):\n",
    "    \"\"\" Extract satellite fixed grid field of view longtidue (lon_fov), \n",
    "        longtiude of the actual satellite subpoint (lon_subpoint),\n",
    "        and distance from the center of the earth (ecef_height)\n",
    "        from a GOES-R series satellite dataset ds loaded with xarray.\n",
    "    \"\"\"\n",
    "    ecef_height = ds.nominal_satellite_height.data.astype(np.float64)*1000\n",
    "    sat_ecef_height_nominal=35786023.0 # Value we expect\n",
    "    assert int(ecef_height) == int(sat_ecef_height_nominal)\n",
    "    \n",
    "    lon_fov = ds.lon_field_of_view.data.astype(np.float64)\n",
    "    lon_subpoint = ds.nominal_satellite_subpoint_lon.data.astype(np.float64)\n",
    "\n",
    "    return lon_fov, lon_subpoint, ecef_height\n",
    "\n",
    "class GOESR_Navigator(object):\n",
    "    def __init__(self, ds):\n",
    "        lon_fov, lon_subpoint, ecef_height = goesr_sat_params(ds)\n",
    "\n",
    "        self.sat_lon = lon_subpoint\n",
    "        self.ecef_height = ecef_height\n",
    "        self.geofixCS, self.grs80lla = get_GOESR_coordsys(self.sat_lon)\n",
    "        self.sat_vec = np.vstack(self.grs80lla.toECEF(self.sat_lon, 0.0, self.ecef_height))"
   ]
  },
  {
   "cell_type": "code",
   "execution_count": 3,
   "id": "ff71b40b-5d53-42f4-b121-51ab256bc6c1",
   "metadata": {
    "tags": []
   },
   "outputs": [],
   "source": [
    "def fixed_grid_from_obs_vec(obs_vec, sat_vec, sat_lon):\n",
    "    \"\"\" Given a lightning vector and a satellite vector in ECEF coordinates,\n",
    "        find the alpha and beta fixed grid angles.\n",
    "        \n",
    "        Implements equations 55-59 from Bezooijen (2016, SPIE).\n",
    "    \"\"\"\n",
    "    # B16 notation\n",
    "    P = obs_vec\n",
    "    R = sat_vec\n",
    "        \n",
    "    D = P - R\n",
    "    \n",
    "    lon_rad = np.radians(sat_lon)\n",
    "    # matrix to rotate from ITRS (ECEF) to fixed grid.\n",
    "    A_it_fg = np.asarray(\n",
    "                  [[-np.sin(lon_rad),  np.cos(lon_rad),  0],\n",
    "                   [               0,                0, -1],\n",
    "                   [-np.cos(lon_rad), -np.sin(lon_rad),  0],\n",
    "                  ]\n",
    "              )\n",
    "    D_fg = np.matmul(A_it_fg, D)\n",
    "    D_fg_norm = np.linalg.norm(D_fg)\n",
    "    d1 = D_fg[0,0]/D_fg_norm\n",
    "    d2 = D_fg[1,0]/D_fg_norm\n",
    "    d3 = D_fg[2,0]/D_fg_norm\n",
    "    alpha = -np.arctan(d2/d3)\n",
    "    beta = np.arcsin(d1)\n",
    "    # return as east, north angles.\n",
    "    return beta, alpha"
   ]
  },
  {
   "cell_type": "code",
   "execution_count": 4,
   "id": "980101ef-8a8b-4d31-bc60-01790e2c1267",
   "metadata": {
    "tags": []
   },
   "outputs": [],
   "source": [
    "g16 = GLMDataset('/data/20240528-WTLMA/GLM/OR_GLM-L2-LCFA_G16_s20241492318200_e20241492318400_c20241492318416.nc')\n",
    "g18 = GLMDataset('/data/20240528-WTLMA/GLM/OR_GLM-L2-LCFA_G18_s20241492318200_e20241492318400_c20241492318418.nc')"
   ]
  },
  {
   "cell_type": "markdown",
   "id": "a4c0708c-292b-43d0-86c1-92693ef9952d",
   "metadata": {},
   "source": [
    "## Preliminary calculations\n",
    "\n",
    "Are we on the right track with our implementation of arbitrary forward navigation of lon, lat, alt to a satellite?"
   ]
  },
  {
   "cell_type": "code",
   "execution_count": 5,
   "id": "7ebbbb71-97ba-461c-9d54-e55075837347",
   "metadata": {
    "tags": []
   },
   "outputs": [
    {
     "name": "stdout",
     "output_type": "stream",
     "text": [
      "[[ 10770658.09197447]\n",
      " [-40765295.89816594]\n",
      " [        0.        ]]\n",
      "[[-1063443.75530698]\n",
      " [-5226993.05104585]\n",
      " [ 3506957.5318461 ]]\n",
      "-0.0628625778829751 0.09353971050950552\n"
     ]
    },
    {
     "name": "stderr",
     "output_type": "stream",
     "text": [
      "/Users/ebruning/code/lmatools/lmatools/coordinateSystems.py:80: FutureWarning: This function is deprecated. See: https://pyproj4.github.io/pyproj/stable/gotchas.html#upgrading-to-pyproj-2-from-pyproj-1\n",
      "  projectedData = array(proj4.transform(self.ERSlla, self.ERSxyz, lon, lat, alt ))\n",
      "/Users/ebruning/code/lmatools/lmatools/coordinateSystems.py:80: FutureWarning: This function is deprecated. See: https://pyproj4.github.io/pyproj/stable/gotchas.html#upgrading-to-pyproj-2-from-pyproj-1\n",
      "  projectedData = array(proj4.transform(self.ERSlla, self.ERSxyz, lon, lat, alt ))\n"
     ]
    }
   ],
   "source": [
    "g16_nav = GOESR_Navigator(g16.dataset)\n",
    "g18_nav = GOESR_Navigator(g18.dataset)\n",
    "\n",
    "ltg_lon, ltg_lat, ltg_alt = -101.5, 33.5, 12000.0\n",
    "\n",
    "print(g16_nav.sat_vec) # seems ok as ECEF\n",
    "\n",
    "ltg_vec = np.vstack(g16_nav.grs80lla.toECEF(ltg_lon, ltg_lat, ltg_alt))\n",
    "print(ltg_vec) # seems ok as ECEF\n",
    "\n",
    "# should be negative east (beta) and postive north (alpha)\n",
    "test_b, test_a = fixed_grid_from_obs_vec(ltg_vec, g16_nav.sat_vec, g16_nav.sat_lon)\n",
    "print(test_b, test_a)"
   ]
  },
  {
   "cell_type": "code",
   "execution_count": 6,
   "id": "110ffd35-a31e-46cb-8246-71439bf6a40d",
   "metadata": {
    "tags": []
   },
   "outputs": [],
   "source": [
    "glmtools_b, glmtools_a = ltg_ellps_lon_lat_to_fixed_grid(ltg_lon, ltg_lat, g16_nav.sat_lon, 1)"
   ]
  },
  {
   "cell_type": "code",
   "execution_count": 7,
   "id": "c7e0ff85-5b81-4050-8f21-617db7dbc5ee",
   "metadata": {
    "tags": []
   },
   "outputs": [],
   "source": [
    "rad_per_km = 28e-6"
   ]
  },
  {
   "cell_type": "code",
   "execution_count": 8,
   "id": "0db071fd-3097-4df5-bf70-d70fc4766ac1",
   "metadata": {
    "tags": []
   },
   "outputs": [],
   "source": [
    "beta_error_km =  (glmtools_b-test_b)/rad_per_km\n",
    "alpha_error_km =  (glmtools_a-test_a)/rad_per_km"
   ]
  },
  {
   "cell_type": "code",
   "execution_count": 9,
   "id": "baadea6a-6352-48bd-83c0-d8446e7e9981",
   "metadata": {
    "tags": []
   },
   "outputs": [
    {
     "name": "stdout",
     "output_type": "stream",
     "text": [
      "[0.1602367] [-0.28211879]\n"
     ]
    }
   ],
   "source": [
    "print(beta_error_km, alpha_error_km)"
   ]
  },
  {
   "cell_type": "markdown",
   "id": "e0da9820-25fe-4eb5-ad0a-4ce537827c1c",
   "metadata": {},
   "source": [
    "So we seem to be on the right track with our independent implementation of the fixed grid forward navigation from an arbitrary location!\n",
    "\n",
    "Let's generalize our location test into a formal implementation, and use it to do a stereo retrieval."
   ]
  },
  {
   "cell_type": "code",
   "execution_count": 10,
   "id": "b0062cb7-d1fe-41b6-b65e-ec5835ddfd04",
   "metadata": {},
   "outputs": [],
   "source": [
    "\n",
    "def stereo_locate_residual(x, *args, **kwargs):\n",
    "    \"\"\" x: array of shape (3,) for (lon, lat, alt)\n",
    "    \n",
    "        kwargs must contain keys for:\n",
    "        goes_navs: a tuple of N instances of GOESR_Navigator objects\n",
    "        goes_locs: a (2,N) array of fixed grid obsevation angles, \n",
    "            with the first dimension by convention being (beta, alpha)\n",
    "            and the second dimension corresponding (in order) to the N goes_navs.\n",
    "\n",
    "        residuals returned are m = 2*N fixed grid angle errors corresponding\n",
    "        to the difference between observation locations predicted from x, \n",
    "        and the goes_locs, as pairs of (beta_error, alpha_error)\n",
    "    \"\"\"\n",
    "    goes_navs = kwargs['goes_navs']\n",
    "    goes_locs = kwargs['goes_locs']\n",
    "    N = len(goes_navs)\n",
    "    residuals = np.zeros(2 * N, dtype=float)\n",
    "    for i, goes_nav in enumerate(goes_navs):\n",
    "        this_slice = slice(i*2, (i+1)*2)\n",
    "        ecef_vec = np.vstack(goes_nav.grs80lla.toECEF(x[0], x[1], x[2]))\n",
    "        test_b, test_a = fixed_grid_from_obs_vec(ecef_vec, goes_nav.sat_vec, goes_nav.sat_lon)\n",
    "        residuals[this_slice] = np.asarray((test_b, test_a)) - goes_locs[:, i].flatten()\n",
    "    return residuals\n",
    "    \n",
    "def geostationary_stereo_locate(fixed_grid_locs, goes_navs, guess_alt=12000.0):\n",
    "    \"\"\" Locate N independent obserations of the same physical entity\n",
    "        observed from geostationary orbit.\n",
    "        \n",
    "        fixed_grid_locs is a (2,N) array of fixed grid obsevation angles, \n",
    "            with the first dimension by convention being (beta, alpha)\n",
    "            and the second dimension corresponding (in order) to the N goes_navs.\n",
    "        goes_navs: N instances of GOESR_Navigator\n",
    "        \n",
    "        guess_alt is an initial guess at the altitude of the observation.\n",
    "    \"\"\"\n",
    "    \n",
    "    # Convert the fixed_grid_locs into lon, lat and average to find an initial guess location\n",
    "    N = len(goes_navs)\n",
    "    assert fixed_grid_locs.shape[1] == N\n",
    "    \n",
    "    # find an initial guess from averaging the earth-intersection points\n",
    "    #  of the input fixed grid locations\n",
    "    initial_guess_lla = np.ones((3,N), dtype=float)*guess_alt\n",
    "    for i, goes_nav in enumerate(goes_navs):\n",
    "        ix, iy = fixed_grid_locs[0,i], fixed_grid_locs[1,i]\n",
    "        iz = 0.0 # doesn't matter - undefined in the satellite fixed grid system\n",
    "        ilon, ilat, ialt_foo = goes_nav.grs80lla.fromECEF(*goes_nav.geofixCS.toECEF(ix,iy,iz))\n",
    "        initial_guess_lla[:, i] = np.vstack([ilon, ilat, guess_alt])[:,0]\n",
    "    \n",
    "    residual_kwargs = dict(goes_navs=goes_navs, goes_locs=fixed_grid_locs)\n",
    "    # testing showed that the result with the default solver was sensitive\n",
    "    # to altitude, so use ol' reliable, Levenburg-Marquardt.\n",
    "    retrieval = least_squares(stereo_locate_residual, \n",
    "                              initial_guess_lla.mean(axis=1).flatten(),\n",
    "                              method='lm',\n",
    "                              kwargs=residual_kwargs\n",
    "                             )\n",
    "    retrieved_lla, fixed_grid_beta_alpha_pairs = retrieval.x, retrieval.fun\n",
    "    return retrieved_lla, fixed_grid_beta_alpha_pairs\n"
   ]
  },
  {
   "cell_type": "code",
   "execution_count": 11,
   "id": "c0cf3dd7-035c-4346-9953-ee8a5d59bb9a",
   "metadata": {
    "tags": []
   },
   "outputs": [],
   "source": [
    "date = datetime(2024,5,28)\n",
    "\n",
    "# (GLM16) 23:01:15.280388\n",
    "# \t-102.177055\t33.834248\n",
    "glm16_event_lat = 33.834248\n",
    "glm16_event_lon = -102.177055\n",
    "\n",
    "# (GLM18) 23:01:15.279243\n",
    "# \t-102.122154\t33.822323\n",
    "glm18_event_lat = 33.822323\n",
    "glm18_event_lon = -102.122154\n",
    "\n",
    "ellps_rev = ltg_ellpse_rev(date)"
   ]
  },
  {
   "cell_type": "code",
   "execution_count": 12,
   "id": "d8a18102-51c7-4fdf-979f-cb1f8e9c7dcb",
   "metadata": {
    "tags": []
   },
   "outputs": [
    {
     "name": "stdout",
     "output_type": "stream",
     "text": [
      "[ -102.15087962    33.80652756 14336.28066174] [ 8.10395282e-07 -1.37862661e-05  8.20342874e-07  1.39235431e-05]\n",
      "[ -102.26652163    33.72983352 24383.30456166] [ 9.19229035e-07 -1.56363715e-05  9.30193004e-07  1.57879083e-05]\n"
     ]
    },
    {
     "name": "stderr",
     "output_type": "stream",
     "text": [
      "/Users/ebruning/code/lmatools/lmatools/coordinateSystems.py:221: FutureWarning: This function is deprecated. See: https://pyproj4.github.io/pyproj/stable/gotchas.html#upgrading-to-pyproj-2-from-pyproj-1\n",
      "  return proj4.transform(self.fixedgrid, self.ECEFxyz, X, Y, Z)\n",
      "/Users/ebruning/code/lmatools/lmatools/coordinateSystems.py:91: FutureWarning: This function is deprecated. See: https://pyproj4.github.io/pyproj/stable/gotchas.html#upgrading-to-pyproj-2-from-pyproj-1\n",
      "  projectedData = array(proj4.transform(self.ERSxyz, self.ERSlla, x, y, z ))\n"
     ]
    }
   ],
   "source": [
    "# Predict the location using the LCFA lon, lat location and the satellite subpoint.\n",
    "x16, y16 = ltg_ellps_lon_lat_to_fixed_grid(glm16_event_lon, glm16_event_lat, g16_nav.sat_lon, ellps_rev)\n",
    "x18, y18 = ltg_ellps_lon_lat_to_fixed_grid(glm18_event_lon, glm18_event_lat, g18_nav.sat_lon, ellps_rev)\n",
    "\n",
    "fixed_grid_locs = np.asarray([[x16, x18],\n",
    "                              [y16, y18],\n",
    "                             ])\n",
    "goes_navs = [g16_nav, g18_nav]\n",
    "\n",
    "final_lla, final_errs = geostationary_stereo_locate(fixed_grid_locs, goes_navs, guess_alt=12000.0)\n",
    "print(final_lla, final_errs)\n",
    "\n",
    "\n",
    "# Predict the location using the LCFA lon, lat location and the lon_field_of_view, which differs for G16\n",
    "x16, y16 = ltg_ellps_lon_lat_to_fixed_grid(glm16_event_lon, glm16_event_lat, g16_nav.sat_lon+0.2, ellps_rev)\n",
    "x18, y18 = ltg_ellps_lon_lat_to_fixed_grid(glm18_event_lon, glm18_event_lat, g18_nav.sat_lon, ellps_rev)\n",
    "\n",
    "fixed_grid_locs = np.asarray([[x16, x18],\n",
    "                              [y16, y18],\n",
    "                             ])\n",
    "goes_navs = [g16_nav, g18_nav]\n",
    "\n",
    "final_lla, final_errs = geostationary_stereo_locate(fixed_grid_locs, goes_navs, guess_alt=12000.0)\n",
    "print(final_lla, final_errs)"
   ]
  },
  {
   "cell_type": "code",
   "execution_count": 13,
   "id": "0d53c2ed-f544-461c-a94c-ccacd474562a",
   "metadata": {
    "tags": []
   },
   "outputs": [],
   "source": [
    "date = datetime(2024,5,28)\n",
    "\n",
    "# (GLM16) 23:18:26.343\n",
    "# \t-102.182144\t33.84683\n",
    "glm16_event_lat = 33.84683\n",
    "glm16_event_lon = -102.182144\n",
    "\n",
    "\n",
    "# (GLM18) 23:18:26.342414\n",
    "# \t-102.11064\t33.845528\n",
    "glm18_event_lat = 33.845528\n",
    "glm18_event_lon = -102.11064\n"
   ]
  },
  {
   "cell_type": "code",
   "execution_count": 14,
   "id": "8bb8f0f5-85cc-4813-b4ce-2cd977d44d7a",
   "metadata": {
    "tags": []
   },
   "outputs": [
    {
     "name": "stdout",
     "output_type": "stream",
     "text": [
      "[ -102.15184682    33.81832317 15118.57933515] [ 1.25350989e-07 -2.13148393e-06  1.26884668e-07  2.15270135e-06]\n",
      "[ -102.26746246    33.74163104 25161.47613181] [ 2.34039211e-07 -3.97933529e-06  2.36822947e-07  4.01788696e-06]\n"
     ]
    }
   ],
   "source": [
    "# Predict the location using the LCFA lon, lat location and the satellite subpoint.\n",
    "x16, y16 = ltg_ellps_lon_lat_to_fixed_grid(glm16_event_lon, glm16_event_lat, g16_nav.sat_lon, ellps_rev)\n",
    "x18, y18 = ltg_ellps_lon_lat_to_fixed_grid(glm18_event_lon, glm18_event_lat, g18_nav.sat_lon, ellps_rev)\n",
    "\n",
    "fixed_grid_locs = np.asarray([[x16, x18],\n",
    "                              [y16, y18],\n",
    "                             ])\n",
    "goes_navs = [g16_nav, g18_nav]\n",
    "\n",
    "final_lla, final_errs = geostationary_stereo_locate(fixed_grid_locs, goes_navs, guess_alt=12000.0)\n",
    "print(final_lla, final_errs)\n",
    "\n",
    "# Predict the location using the LCFA lon, lat location and the lon_field_of_view, which differs for G16\n",
    "x16, y16 = ltg_ellps_lon_lat_to_fixed_grid(glm16_event_lon, glm16_event_lat, g16_nav.sat_lon+0.2, ellps_rev)\n",
    "x18, y18 = ltg_ellps_lon_lat_to_fixed_grid(glm18_event_lon, glm18_event_lat, g18_nav.sat_lon, ellps_rev)\n",
    "\n",
    "fixed_grid_locs = np.asarray([[x16, x18],\n",
    "                              [y16, y18],\n",
    "                             ])\n",
    "goes_navs = [g16_nav, g18_nav]\n",
    "\n",
    "final_lla, final_errs = geostationary_stereo_locate(fixed_grid_locs, goes_navs, guess_alt=12000.0)\n",
    "print(final_lla, final_errs)"
   ]
  },
  {
   "cell_type": "code",
   "execution_count": null,
   "id": "ba038e4e-b1bf-4ce3-bff9-a9d06595c6ea",
   "metadata": {},
   "outputs": [],
   "source": []
  }
 ],
 "metadata": {
  "kernelspec": {
   "display_name": "Python [conda env:glmval]",
   "language": "python",
   "name": "conda-env-glmval-py"
  },
  "language_info": {
   "codemirror_mode": {
    "name": "ipython",
    "version": 3
   },
   "file_extension": ".py",
   "mimetype": "text/x-python",
   "name": "python",
   "nbconvert_exporter": "python",
   "pygments_lexer": "ipython3",
   "version": "3.10.13"
  }
 },
 "nbformat": 4,
 "nbformat_minor": 5
}
